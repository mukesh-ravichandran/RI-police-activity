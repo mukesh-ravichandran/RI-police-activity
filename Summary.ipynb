{
 "cells": [
  {
   "cell_type": "markdown",
   "metadata": {},
   "source": [
    "# Effect of gender on policing on the state of Rhode Island"
   ]
  },
  {
   "cell_type": "markdown",
   "metadata": {},
   "source": [
    "## Importing, initial analysis and cleaning"
   ]
  },
  {
   "cell_type": "code",
   "execution_count": null,
   "metadata": {},
   "outputs": [],
   "source": [
    "import pandas as pd\n",
    "\n",
    "#importing the dataset\n",
    "ri= pd.read_csv(\"police.csv\")\n",
    "\n",
    "#checking the first few rows\n",
    "display(ri.head())\n",
    "\n"
   ]
  },
  {
   "cell_type": "code",
   "execution_count": null,
   "metadata": {
    "tags": []
   },
   "outputs": [],
   "source": [
    "#checking the number of missing values in each column\n",
    "print(ri.isnull().sum())\n",
    "\n",
    "#checking the shape of the dataset\n",
    "print(ri.shape) \n",
    "\n",
    "# Dropping the 'county_name' and 'state' columns, since that has redundant values\n",
    "ri.drop(['county_name', 'state'], axis='columns', inplace=True)\n",
    "\n",
    "# Examining the shape of the DataFrame again\n",
    "print(ri.shape)"
   ]
  },
  {
   "cell_type": "code",
   "execution_count": null,
   "metadata": {
    "tags": []
   },
   "outputs": [],
   "source": [
    "# Counting the number of missing values in each column\n",
    "print(ri.isnull().sum())\n",
    "\n",
    "# Dropping all rows that are missing 'driver_gender'\n",
    "ri.dropna(subset=['driver_gender'], inplace=True)\n",
    "\n",
    "# Counting the number of missing values in each column (again)\n",
    "print(ri.isnull().sum())\n",
    "\n",
    "# Examining the shape of the DataFrame\n",
    "print(ri.shape)"
   ]
  },
  {
   "cell_type": "code",
   "execution_count": null,
   "metadata": {
    "tags": []
   },
   "outputs": [],
   "source": [
    "#Checking the datatypes of the variables\n",
    "print(ri.dtypes)\n",
    "\n",
    "#Examinining the head of the dataset\n",
    "print(ri.head())\n",
    "\n",
    "#Making appropriate type changes\n",
    "ri['is_arrested'] = ri.is_arrested.astype('bool') #converting 'is_arrested' to boolean\n",
    "\n",
    "# Concatenating 'stop_date' and 'stop_time'\n",
    "combined = ri.stop_date.str.cat(ri.stop_time, sep= ' ')\n",
    "\n",
    "# Converting 'combined' to datetime format\n",
    "ri['stop_datetime'] = pd.to_datetime(combined)\n",
    "\n",
    "#Checking the datatypes of the variables again\n",
    "print(ri.dtypes)\n",
    "\n",
    "#Setting the index\n",
    "ri.set_index('stop_datetime', inplace=True)\n"
   ]
  },
  {
   "cell_type": "code",
   "execution_count": null,
   "metadata": {},
   "outputs": [],
   "source": []
  },
  {
   "cell_type": "code",
   "execution_count": null,
   "metadata": {},
   "outputs": [],
   "source": []
  }
 ],
 "metadata": {
  "kernelspec": {
   "display_name": "Python 3.8.3 64-bit",
   "language": "python",
   "name": "python38364bitf31988219f994cdda02f98b82cbe7366"
  },
  "language_info": {
   "codemirror_mode": {
    "name": "ipython",
    "version": 3
   },
   "file_extension": ".py",
   "mimetype": "text/x-python",
   "name": "python",
   "nbconvert_exporter": "python",
   "pygments_lexer": "ipython3",
   "version": "3.8.3-final"
  }
 },
 "nbformat": 4,
 "nbformat_minor": 4
}