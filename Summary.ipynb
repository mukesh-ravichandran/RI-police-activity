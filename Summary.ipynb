{
 "cells": [
  {
   "cell_type": "markdown",
   "metadata": {},
   "source": [
    "# Effect of gender on policing on the state of Rhode Island"
   ]
  },
  {
   "cell_type": "markdown",
   "metadata": {},
   "source": [
    "## Data preparation"
   ]
  },
  {
   "cell_type": "code",
   "execution_count": null,
   "metadata": {},
   "outputs": [],
   "source": [
    "import pandas as pd\n",
    "import numpy as np\n",
    "\n",
    "#importing the dataset\n",
    "ri= pd.read_csv(\"police.csv\")\n",
    "\n",
    "#checking the first few rows\n",
    "display(ri.head())\n",
    "\n"
   ]
  },
  {
   "cell_type": "code",
   "execution_count": null,
   "metadata": {
    "tags": []
   },
   "outputs": [],
   "source": [
    "#checking the number of missing values in each column\n",
    "print(ri.isnull().sum())\n",
    "\n",
    "#checking the shape of the dataset\n",
    "print(ri.shape) \n",
    "\n",
    "# Dropping the 'county_name' and 'state' columns, since that has redundant values\n",
    "ri.drop(['county_name', 'state'], axis='columns', inplace=True)\n",
    "\n",
    "# Examining the shape of the DataFrame again\n",
    "print(ri.shape)"
   ]
  },
  {
   "cell_type": "code",
   "execution_count": null,
   "metadata": {
    "tags": []
   },
   "outputs": [],
   "source": [
    "# Counting the number of missing values in each column\n",
    "print(ri.isnull().sum())\n",
    "\n",
    "# Dropping all rows that are missing 'driver_gender'\n",
    "ri.dropna(subset=['driver_gender'], inplace=True)\n",
    "\n",
    "# Counting the number of missing values in each column (again)\n",
    "print(ri.isnull().sum())\n",
    "\n",
    "# Examining the shape of the DataFrame\n",
    "print(ri.shape)"
   ]
  },
  {
   "cell_type": "code",
   "execution_count": null,
   "metadata": {
    "tags": []
   },
   "outputs": [],
   "source": [
    "#Checking the datatypes of the variables\n",
    "print(ri.dtypes)\n",
    "\n",
    "#Examinining the head of the dataset\n",
    "print(ri.head())\n",
    "\n",
    "#Making appropriate type changes\n",
    "ri['is_arrested'] = ri.is_arrested.astype('bool') #converting 'is_arrested' to boolean\n",
    "\n",
    "# Concatenating 'stop_date' and 'stop_time'\n",
    "combined = ri.stop_date.str.cat(ri.stop_time, sep= ' ')\n",
    "\n",
    "# Converting 'combined' to datetime format\n",
    "ri['stop_datetime'] = pd.to_datetime(combined)\n",
    "\n",
    "#Checking the datatypes of the variables again\n",
    "print(ri.dtypes)\n",
    "\n",
    "#Setting the index\n",
    "ri.set_index('stop_datetime', inplace=True)\n"
   ]
  },
  {
   "cell_type": "markdown",
   "metadata": {},
   "source": [
    "## Effect of gender on policing"
   ]
  },
  {
   "cell_type": "code",
   "execution_count": null,
   "metadata": {},
   "outputs": [],
   "source": [
    "# Creating a DataFrame of female drivers\n",
    "female = ri[ri['driver_gender']=='F']\n",
    "\n",
    "# Creating a DataFrame of male drivers\n",
    "male = ri[ri['driver_gender']=='M']\n",
    "\n",
    "# Counting the unique values in 'violation'\n",
    "print(ri.violation.value_counts())\n",
    "print(\"\\n\")\n",
    "\n",
    "# Expressing the counts as proportions\n",
    "print(ri.violation.value_counts(normalize= True))\n",
    "print(\"\\n\")\n",
    "\n",
    "# Computing the violations by female drivers (as proportions)\n",
    "print(female.violation.value_counts(normalize= True))\n",
    "print(\"\\n\")\n",
    "\n",
    "# Computing the violations by male drivers (as proportions)\n",
    "print(male.violation.value_counts(normalize= True))"
   ]
  },
  {
   "cell_type": "code",
   "execution_count": null,
   "metadata": {},
   "outputs": [],
   "source": [
    "# Creating a DataFrame of female drivers stopped for speeding\n",
    "female_and_speeding = female[female['violation']=='Speeding']\n",
    "\n",
    "# Creating a DataFrame of male drivers stopped for speeding\n",
    "male_and_speeding = male[male['violation']=='Speeding']\n",
    "\n",
    "# Computing the stop outcomes for female drivers (as proportions)\n",
    "print(female_and_speeding.stop_outcome.value_counts(normalize=True))\n",
    "print (\"\\n\")\n",
    "\n",
    "# Computing the stop outcomes for male drivers (as proportions)\n",
    "print(male_and_speeding.stop_outcome.value_counts(normalize=True))\n",
    "\n"
   ]
  },
  {
   "cell_type": "markdown",
   "metadata": {},
   "source": [
    "There is no realtionship between gender and if or not they get a ticket"
   ]
  },
  {
   "cell_type": "code",
   "execution_count": null,
   "metadata": {},
   "outputs": [],
   "source": [
    "# Calculating the search rate\n",
    "print(ri.search_conducted.value_counts())\n",
    "\n",
    "# Calculating the search rate for male and female drivers indiviudally\n",
    "print(ri.groupby('driver_gender').search_conducted.value_counts(normalize=True))"
   ]
  },
  {
   "cell_type": "markdown",
   "metadata": {},
   "source": [
    "Male drivers tend to be searched much more often than female drivers."
   ]
  },
  {
   "cell_type": "code",
   "execution_count": null,
   "metadata": {},
   "outputs": [],
   "source": [
    "# Calculating the search rate for each combination of gender and violation\n",
    "print(ri.groupby(['violation','driver_gender']).search_conducted.mean())"
   ]
  },
  {
   "cell_type": "markdown",
   "metadata": {},
   "source": [
    "Male drivers tend to be searched much more often than female drivers, for all type of violations"
   ]
  },
  {
   "cell_type": "code",
   "execution_count": null,
   "metadata": {},
   "outputs": [],
   "source": [
    "# Counting the 'search_type' values\n",
    "print(ri.search_type.value_counts())\n",
    "\n",
    "# Checking if 'search_type' contains the string 'Protective Frisk'\n",
    "ri['frisk'] = ri.search_type.str.contains('Protective Frisk', na=False)\n",
    "\n",
    "# Taking the sum of 'frisk'\n",
    "print(ri.frisk.sum())"
   ]
  },
  {
   "cell_type": "code",
   "execution_count": null,
   "metadata": {},
   "outputs": [],
   "source": [
    "# Creating a DataFrame of stops in which a search was conducted\n",
    "searched = ri[ri.search_conducted == True]\n",
    "\n",
    "# Calculating the overall frisk rate by taking the mean of 'frisk'\n",
    "print(searched.frisk.mean())\n",
    "\n",
    "# Calculating the frisk rate for each gender\n",
    "print(searched.groupby('driver_gender').frisk.mean())"
   ]
  },
  {
   "cell_type": "markdown",
   "metadata": {},
   "source": [
    "## Visual exploratory data analysis to check other relationships"
   ]
  },
  {
   "cell_type": "code",
   "execution_count": null,
   "metadata": {},
   "outputs": [],
   "source": []
  }
 ],
 "metadata": {
  "kernelspec": {
   "display_name": "Python 3.8.3 64-bit",
   "language": "python",
   "name": "python38364bitf31988219f994cdda02f98b82cbe7366"
  },
  "language_info": {
   "codemirror_mode": {
    "name": "ipython",
    "version": 3
   },
   "file_extension": ".py",
   "mimetype": "text/x-python",
   "name": "python",
   "nbconvert_exporter": "python",
   "pygments_lexer": "ipython3",
   "version": "3.8.3"
  }
 },
 "nbformat": 4,
 "nbformat_minor": 4
}
